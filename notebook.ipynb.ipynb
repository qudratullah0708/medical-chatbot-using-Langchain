{
 "cells": [
  {
   "cell_type": "code",
   "execution_count": 1,
   "metadata": {},
   "outputs": [],
   "source": [
    "import os\n",
    "from dotenv import load_dotenv, find_dotenv\n",
    "_ = load_dotenv(find_dotenv())\n",
    "GROQ_API_KEY = os.environ[\"GROQ_API\"]"
   ]
  },
  {
   "cell_type": "code",
   "execution_count": 2,
   "metadata": {},
   "outputs": [],
   "source": [
    "from langchain_community.vectorstores import FAISS\n",
    "from langchain_text_splitters import CharacterTextSplitter\n",
    "from langchain_community.document_loaders import PyPDFLoader\n",
    "from pydantic import BaseModel\n",
    "\n"
   ]
  },
  {
   "cell_type": "markdown",
   "metadata": {},
   "source": [
    "# Pdf Loader"
   ]
  },
  {
   "cell_type": "code",
   "execution_count": 75,
   "metadata": {},
   "outputs": [],
   "source": [
    "# loader = PyPDFLoader(r\"LLM_based_web_agents.pdf\")\n",
    "# loaded_document = loader.load()"
   ]
  },
  {
   "cell_type": "markdown",
   "metadata": {},
   "source": [
    "# Load multiple Docx Files\n"
   ]
  },
  {
   "cell_type": "code",
   "execution_count": 5,
   "metadata": {},
   "outputs": [],
   "source": [
    "from langchain_community.document_loaders import Docx2txtLoader, DirectoryLoader\n"
   ]
  },
  {
   "cell_type": "code",
   "execution_count": 7,
   "metadata": {},
   "outputs": [],
   "source": [
    "#Extract Data From the PDF File\n",
    "def load_file(data):\n",
    "    loader= DirectoryLoader(data,\n",
    "                            glob=\"*.pdf\",\n",
    "                            loader_cls=PyPDFLoader)\n",
    "\n",
    "    documents=loader.load()\n",
    "\n",
    "    return documents"
   ]
  },
  {
   "cell_type": "code",
   "execution_count": 8,
   "metadata": {},
   "outputs": [],
   "source": [
    "loaded_data=load_file(data='data/')"
   ]
  },
  {
   "cell_type": "code",
   "execution_count": 9,
   "metadata": {},
   "outputs": [
    {
     "data": {
      "text/plain": [
       "637"
      ]
     },
     "execution_count": 9,
     "metadata": {},
     "output_type": "execute_result"
    }
   ],
   "source": [
    "len(loaded_data)"
   ]
  },
  {
   "cell_type": "code",
   "execution_count": 16,
   "metadata": {},
   "outputs": [],
   "source": [
    "from langchain_text_splitters import RecursiveCharacterTextSplitter"
   ]
  },
  {
   "cell_type": "code",
   "execution_count": 19,
   "metadata": {},
   "outputs": [],
   "source": [
    "text_splitter = RecursiveCharacterTextSplitter(chunk_size=1200, chunk_overlap=100)\n",
    "chunks_of_text = text_splitter.split_documents(loaded_data)"
   ]
  },
  {
   "cell_type": "code",
   "execution_count": 20,
   "metadata": {},
   "outputs": [
    {
     "data": {
      "text/plain": [
       "2785"
      ]
     },
     "execution_count": 20,
     "metadata": {},
     "output_type": "execute_result"
    }
   ],
   "source": [
    "len(chunks_of_text)"
   ]
  },
  {
   "cell_type": "code",
   "execution_count": 14,
   "metadata": {},
   "outputs": [],
   "source": [
    "from langchain_huggingface.embeddings import HuggingFaceEmbeddings"
   ]
  },
  {
   "cell_type": "code",
   "execution_count": 15,
   "metadata": {},
   "outputs": [
    {
     "name": "stderr",
     "output_type": "stream",
     "text": [
      "c:\\Users\\PMLS\\anaconda3\\envs\\llmapp\\Lib\\site-packages\\sentence_transformers\\cross_encoder\\CrossEncoder.py:13: TqdmWarning: IProgress not found. Please update jupyter and ipywidgets. See https://ipywidgets.readthedocs.io/en/stable/user_install.html\n",
      "  from tqdm.autonotebook import tqdm, trange\n"
     ]
    }
   ],
   "source": [
    "embed_model = HuggingFaceEmbeddings(model_name=\"sentence-transformers/all-MiniLM-L6-v2\")"
   ]
  },
  {
   "cell_type": "code",
   "execution_count": 21,
   "metadata": {},
   "outputs": [],
   "source": [
    "\n",
    "vector_db = FAISS.from_documents(chunks_of_text, embed_model)"
   ]
  },
  {
   "cell_type": "code",
   "execution_count": 22,
   "metadata": {},
   "outputs": [
    {
     "data": {
      "text/plain": [
       "<langchain_community.vectorstores.faiss.FAISS at 0x1792fdf3cd0>"
      ]
     },
     "execution_count": 22,
     "metadata": {},
     "output_type": "execute_result"
    }
   ],
   "source": [
    "vector_db"
   ]
  },
  {
   "cell_type": "code",
   "execution_count": 23,
   "metadata": {},
   "outputs": [],
   "source": [
    "retriever = vector_db.as_retriever()"
   ]
  },
  {
   "cell_type": "code",
   "execution_count": 24,
   "metadata": {},
   "outputs": [],
   "source": [
    "response = retriever.invoke(\"Tell me about hypoglycemia?\")"
   ]
  },
  {
   "cell_type": "code",
   "execution_count": 25,
   "metadata": {},
   "outputs": [
    {
     "data": {
      "text/plain": [
       "[Document(metadata={'source': 'data\\\\Medical_book.pdf', 'page': 275}, page_content='Sulonylureas. All sulfonylurea drugs may cause\\nhypoglycemia. Most patients become resistant to thesedrugs over time, and may require either dose adjustmentsor a switch to insulin. The list of adverse reactions isextensive, and includes central nervous system problemsand skin reactions, among others. Hematologic reactions,although rare, may be severe and include aplastic ane-\\nmia and hemolytic anemia . The administration of oral\\nhypoglycemic drugs has been associated with increasedcardiovascular mortality as compared with treatmentwith diet alone or diet plus insulin. The sulfonylureas areclassified as category C during pregnancy, based on ani-\\nGALE ENCYCLOPEDIA OF MEDICINE 2 262Antidiabetic drugsGEM - 0001 to 0432 - A  10/22/03 1:42 PM  Page 262'),\n",
       " Document(metadata={'source': 'data\\\\Medical_book.pdf', 'page': 146}, page_content='Altitude sickness occurs because the partial pressure\\nof oxygen decreases with altitude. (Partial pressure is aterm applied to gases that is similar to the way the termconcentration is applied to liquid solutions.) For instance,at 18,000 feet (5,486 m) the partial pressure of oxygendrops to one-half its value at sea level and, therefore, thereis a substantially lower amount of oxygen available for theindividual to inhale. This is known as hypoxia. Further-more, since there is less oxygen to inhale, less oxygenreaches the blood. This is known as hypoxemia. These twoconditions are the major factors that form the basis for allthe medical problems associated with altitude sickness.\\nAs a person becomes hypoxemic, his natural'),\n",
       " Document(metadata={'source': 'data\\\\Medical_book.pdf', 'page': 542}, page_content='begin to fall. A person with diabetes mellitus either does\\nnot make enough insulin, or makes insulin that does notwork properly. The result is blood sugar that remainshigh, a condition called hyperglycemia.\\nDiabetes must be diagnosed as early as possible. If\\nleft untreated, it can damage or cause failure of the eyes,kidneys, nerves, heart, blood vessels, and other bodyorgans. Hypoglycemia , or low blood sugar, may also be\\ndiscovered through blood sugar testing. Hypoglycemia iscaused by various hormone disorders and liver disease,as well as by too much insulin.\\nDescription\\nThere are a variety of ways to measure a person’s\\nblood sugar.\\nWhole blood glucose test\\nWhole blood glucose testing can be performed by a\\nperson in his or her home, and kits are available for thispurpose. The person pricks his or her finger (a fingerstick) with a sterile sharp blade from the kit. A singledrop of blood is placed on a strip in a portable instrumentcalled a glucometer. The glucometer quickly determinesthe blood sugar and shows the results on a small screenin usually a few seconds.\\nFasting plasma glucose test\\nThe fasting plasma glucose test is done on an empty'),\n",
       " Document(metadata={'source': 'data\\\\Medical_book.pdf', 'page': 543}, page_content='Risks\\nIf the person experiences any weakness, fainting ,\\nsweating, or any other unusual reaction while fasting orduring the test, he or she should immediately tell the per-son giving the test.\\nNormal results\\nNormal results are:\\n• fasting plasma glucose test less than 120 mg/dL\\n• oral glucose tolerance test, 2 hours less than 140 mg/dL\\nFor the diabetic person, the ADA recommends an ongo-\\ning blood sugar goal of less than or equal to 120 mg/dL.Abnormal results\\nThese abnormal results indicate diabetes and must\\nbe confirmed with repeat testing:\\n• fasting plasma glucose test less than or equal to 126\\nmg/dL\\n• oral glucose tolerance test, 2 hours less than or equal to\\n200 mg/dL\\n• casual plasma glucose test (nonfasting, with symptoms)\\nless than or equal to 200 mg/dL\\n• gestational oral glucose tolerance test, 1 hour less than\\nor equal to 140 mg/dL\\nBrain damage can occur from glucose levels below\\n40 mg/dL and coma from levels above 470 mg/dL.\\nOther hormone disorders can cause both hyper-\\nglycemia and hypoglycemia. Abnormal results must beinterpreted by a doctor who is aware of the person’s med-ical condition and medical history.\\nResources\\nBOOKS')]"
      ]
     },
     "execution_count": 25,
     "metadata": {},
     "output_type": "execute_result"
    }
   ],
   "source": [
    "response"
   ]
  },
  {
   "cell_type": "code",
   "execution_count": 26,
   "metadata": {},
   "outputs": [
    {
     "data": {
      "text/plain": [
       "4"
      ]
     },
     "execution_count": 26,
     "metadata": {},
     "output_type": "execute_result"
    }
   ],
   "source": [
    "len(response)"
   ]
  },
  {
   "cell_type": "code",
   "execution_count": 27,
   "metadata": {},
   "outputs": [],
   "source": [
    "retriever = vector_db.as_retriever(search_kwargs={\"k\": 1})"
   ]
  },
  {
   "cell_type": "code",
   "execution_count": 28,
   "metadata": {},
   "outputs": [
    {
     "data": {
      "text/plain": [
       "[Document(metadata={'source': 'data\\\\Medical_book.pdf', 'page': 195}, page_content='• a ruptured blood vessel\\n• surgery\\nWhen a lot of blood is lost within a short time, blood\\npressure and the amount of oxygen in the body drop sud-denly. Heart failure and death can follow.\\nLoss of even one-third of the body’s blood volume in\\nthe space of several hours can be fatal. More gradual bloodloss is less serious, because the body has time to createnew red blood cells to replace those that have been lost.\\nSymptoms\\nWeakness, fatigue, and a run-down feeling may be\\nsigns of mild anemia. Skin that is pasty or sallow, or lackof color in the creases of the palm, gums, nail beds, orlining of the eyelids are other signs of anemia. Someonewho is weak, tires easily, is often out of breath, and feelsfaint or dizzy may be severely anemic.\\nOther symptoms of anemia are:\\n• angina pectoris (chest pain, often accompanied by a\\nchoking sensation that provokes severe anxiety )\\n• cravings for ice, paint, or dirt\\n• headache\\n• inability to concentrate, memory loss\\n• inflammation of the mouth ( stomatitis ) or tongue\\n(glossitis)\\n• insomnia\\n• irregular heartbeat\\n• loss of appetite\\n• nails that are dry, brittle, or ridged\\n• rapid breathing\\n• sores in the mouth, throat, or rectum\\n• sweating')]"
      ]
     },
     "execution_count": 28,
     "metadata": {},
     "output_type": "execute_result"
    }
   ],
   "source": [
    "response = retriever.invoke(\" what are the symptoms of hypoglycemia?\")\n",
    "response"
   ]
  },
  {
   "cell_type": "markdown",
   "metadata": {},
   "source": [
    "## Simple use with LCEL"
   ]
  },
  {
   "cell_type": "code",
   "execution_count": 29,
   "metadata": {},
   "outputs": [],
   "source": [
    "#from langchain_openai import ChatOpenAI\n",
    "from langchain_core.prompts import ChatPromptTemplate\n",
    "from langchain_core.output_parsers import StrOutputParser\n",
    "from langchain_core.runnables import RunnablePassthrough"
   ]
  },
  {
   "cell_type": "code",
   "execution_count": 30,
   "metadata": {},
   "outputs": [],
   "source": [
    "template = \"\"\"Answer the question based only on the following context:\n",
    "\n",
    "{context}\n",
    "\n",
    "Question: {question}\n",
    "\"\"\"\n",
    "\n",
    "prompt = ChatPromptTemplate.from_template(template)\n",
    "\n",
    "# model = ChatOpenAI()\n",
    "\n",
    "\n"
   ]
  },
  {
   "cell_type": "code",
   "execution_count": 31,
   "metadata": {},
   "outputs": [],
   "source": [
    "from langchain_groq import ChatGroq\n",
    "\n"
   ]
  },
  {
   "cell_type": "code",
   "execution_count": 32,
   "metadata": {},
   "outputs": [],
   "source": [
    "from groq import Groq"
   ]
  },
  {
   "cell_type": "code",
   "execution_count": 33,
   "metadata": {},
   "outputs": [],
   "source": [
    "llm = ChatGroq(\n",
    "    api_key = GROQ_API_KEY,\n",
    "    model=\"llama-3.1-8b-instant\",\n",
    "    disable_streaming=True\n",
    ")"
   ]
  },
  {
   "cell_type": "markdown",
   "metadata": {},
   "source": [
    "# LCEL Chaining"
   ]
  },
  {
   "cell_type": "code",
   "execution_count": 34,
   "metadata": {},
   "outputs": [],
   "source": [
    "def format_docs(docs):\n",
    "    return \"\\n\\n\".join([d.page_content for d in docs])\n",
    "\n",
    "\n",
    "chain = (\n",
    "    {\"context\": retriever | format_docs , \"question\": RunnablePassthrough()}\n",
    "    | prompt\n",
    "    | llm\n",
    "    | StrOutputParser()\n",
    ")\n"
   ]
  },
  {
   "cell_type": "code",
   "execution_count": 29,
   "metadata": {},
   "outputs": [],
   "source": [
    "def chatbot_Func():\n",
    " while True:\n",
    "  question = input(\"You: \")\n",
    "  if question.lower() == \"exit\":\n",
    "    break \n",
    "  response = chain.invoke(question)\n",
    "  print(f\"AI: {response}\")"
   ]
  },
  {
   "cell_type": "code",
   "execution_count": null,
   "metadata": {},
   "outputs": [],
   "source": [
    "chatbot_Func()"
   ]
  },
  {
   "cell_type": "code",
   "execution_count": 35,
   "metadata": {},
   "outputs": [],
   "source": [
    "# query = \"who is the founder of css and in which year it was founded?\"\n",
    "query = input(\"Enter your query: \")\n",
    "\n",
    "\n",
    "retriever = vector_db.as_retriever(search_kwargs={\"k\": 3})\n",
    "\n",
    "docs = retriever.invoke(query)"
   ]
  },
  {
   "cell_type": "code",
   "execution_count": 36,
   "metadata": {},
   "outputs": [],
   "source": [
    "# Function to format documents into a string\n",
    "def format_docs(docs):\n",
    "    return \"\\n\\n\".join([d.page_content for d in docs])\n",
    "\n",
    "formatted_response = format_docs(docs)\n",
    "# print(formatted_response)"
   ]
  },
  {
   "cell_type": "code",
   "execution_count": 37,
   "metadata": {},
   "outputs": [],
   "source": [
    "from langchain.schema import HumanMessage"
   ]
  },
  {
   "cell_type": "code",
   "execution_count": 38,
   "metadata": {},
   "outputs": [],
   "source": [
    "# Prepare the input as a list of messages for the chat model\n",
    "messages = [\n",
    "    HumanMessage(content=f\"Question:{query}\\n\\ncontext:{formatted_response}\") \n",
    "    ]\n",
    "\n"
   ]
  },
  {
   "cell_type": "code",
   "execution_count": 39,
   "metadata": {},
   "outputs": [
    {
     "name": "stdout",
     "output_type": "stream",
     "text": [
      "The provided text does not discuss hypoglycemia, but rather anemia, anoxia, and hypoxia. However, considering the context of a ruptured blood vessel and surgery, which can lead to blood loss and shock, hypoglycemia is a possible complication.\n",
      "\n",
      "Hypoglycemia is a condition characterized by low blood sugar levels (less than 70 mg/dL). Symptoms of hypoglycemia may include:\n",
      "\n",
      "1. Shakiness or tremors\n",
      "2. Sweating\n",
      "3. Hunger or nausea\n",
      "4. Dizziness or lightheadedness\n",
      "5. Confusion or disorientation\n",
      "6. Headache\n",
      "7. Fatigue or weakness\n",
      "8. Rapid heartbeat\n",
      "9. Rapid breathing\n",
      "10. Pale or cool skin\n",
      "11. Numbness or tingling in the lips, tongue, or fingers\n",
      "12. Difficulty speaking or slurred speech\n",
      "13. Loss of consciousness or coma (in severe cases)\n",
      "\n",
      "If the situation is caused by a ruptured blood vessel or surgery, symptoms may be more severe due to the associated blood loss and shock. In such cases, rapid diagnosis and treatment are critical to prevent further complications and potential organ damage."
     ]
    }
   ],
   "source": [
    "chunks = []\n",
    "for chunk in llm.stream(messages):\n",
    "    chunks.append(chunk)\n",
    "    print(chunk.content, end=\"\", flush=True)"
   ]
  },
  {
   "cell_type": "markdown",
   "metadata": {},
   "source": [
    "# Memory"
   ]
  },
  {
   "cell_type": "code",
   "execution_count": 40,
   "metadata": {},
   "outputs": [],
   "source": [
    "# Initialize an empty string to store chat history\n",
    "bot_memory = \"\"\n",
    "\n",
    "# Combine chat history (bot_memory) with the new formatted response\n",
    "context = bot_memory + \"\\n\" + formatted_response\n",
    "\n",
    "chain = (\n",
    "    {\n",
    "        \"context\": RunnablePassthrough(),  # Ensure it's treated as a passthrough Runnable\n",
    "        \"question\": RunnablePassthrough()  # Allow direct question passthrough\n",
    "    }\n",
    "    | prompt  # Apply the chat prompt template\n",
    "    | llm  # Invoke the LLM model\n",
    "    | StrOutputParser()  # Parse the LLM response as a string\n",
    ")"
   ]
  },
  {
   "cell_type": "code",
   "execution_count": null,
   "metadata": {},
   "outputs": [],
   "source": [
    "def chatbot():\n",
    "      # Initialize an empty string to store chat history\n",
    "    bot_memory = \"\"\n",
    "\n",
    "\n",
    "    print(\"Welcome to the medical website chatbot! Type 'exit' to quit.\")\n",
    "\n",
    "    while True:\n",
    "        # Get user input\n",
    "        user_input = input(\"You: \")\n",
    "\n",
    "        # Exit condition\n",
    "        if user_input.lower() == 'exit':\n",
    "            print(\"Goodbye! Have a nice day!\")\n",
    "            break\n",
    "        \n",
    "        else:\n",
    "            retriever = vector_db.as_retriever(search_kwargs={\"k\": 3})\n",
    "\n",
    "            docs = retriever.invoke(user_input)\n",
    "            \n",
    "            formatted_response = format_docs(docs)\n",
    "\n",
    "        # Combine chat history (bot_memory) with the new formatted response\n",
    "        context = bot_memory + \"\\n\" + formatted_response\n",
    "        # Invoke the chain with the user input and context\n",
    "        FinalResponse = chain.invoke({\"question\": user_input, \"context\": context})\n",
    "\n",
    "        # Display the chatbot's response\n",
    "        print(f\"AI: {FinalResponse}\")\n",
    "\n",
    "        # Update the bot's memory with the conversation\n",
    "        bot_memory += f\"\\nUser: {user_input}\\nAI: {FinalResponse}\\n\"\n",
    "        FinalResponse\n"
   ]
  },
  {
   "cell_type": "code",
   "execution_count": 42,
   "metadata": {},
   "outputs": [
    {
     "name": "stdout",
     "output_type": "stream",
     "text": [
      "Welcome to the CSS chatbot! Type 'exit' to quit.\n",
      "AI: The reasons of liver pain mentioned in the context are:\n",
      "\n",
      "1. Blood disorders such as polycythemia rubra vera (an increase in the number of red blood cells) and sickle cell disease.\n",
      "2. Liver cancer, which is the most frequent cause in parts of the world where liver cancer is common.\n",
      "3. Certain infections.\n",
      "4. Use of oral contraceptives.\n",
      "5. Decreased urine output.\n",
      "6. Cirrhosis of the liver, which is often caused by chronic alcohol abuse and leads to scarring of the liver and an increase in blood pressure in the portal veins.\n",
      "7. Portal hypertension, which can occur due to cirrhosis or portal vein obstruction from unknown causes. This leads to blood flow backward, causing the portal veins to enlarge and the emergence of bleeding varices across the esophagus and stomach.\n",
      "AI: The reasons of liver pain mentioned in the context are:\n",
      "\n",
      "1. Blood disorders such as polycythemia rubra vera (an increase in the number of red blood cells) and sickle cell disease.\n",
      "2. Liver cancer, which is the most frequent cause in parts of the world where liver cancer is common.\n",
      "3. Certain infections.\n",
      "4. Use of oral contraceptives.\n",
      "5. Decreased urine output.\n",
      "6. Cirrhosis of the liver, which is often caused by chronic alcohol abuse and leads to scarring of the liver and an increase in blood pressure in the portal veins.\n",
      "7. Portal hypertension, which can occur due to cirrhosis or portal vein obstruction from unknown causes.\n",
      "AI: Liver pain can be caused by 7 reasons:\n",
      "\n",
      "1. Blood disorders\n",
      "2. Liver cancer\n",
      "3. Certain infections\n",
      "4. Use of oral contraceptives\n",
      "5. Decreased urine output\n",
      "6. Cirrhosis of the liver\n",
      "7. Portal hypertension\n",
      "AI: Liver pain can be caused by 7 reasons: \n",
      "\n",
      "1. Blood disorders\n",
      "2. Liver cancer\n",
      "3. Certain infections\n",
      "4. Use of oral contraceptives\n",
      "5. Decreased urine output\n",
      "6. Cirrhosis of the liver\n",
      "7. Portal hypertension\n",
      "AI: Based on the provided context, the treatment isn't specific to liver issues, it is discussing the treatment of different medical conditions such as kidney failure, aortic valve insufficiency, and art therapy. However, we can infer that the treatment for liver-related issues would be similar to the general treatment approach for the mentioned conditions:\n",
      "\n",
      "- The treatment is directed to the underlying, primary medical condition that has triggered the issue.\n",
      "- The use of medications, surgery, and/or blood transfusions may be required.\n",
      "- Replacement fluids given through a vein, diuretics, or dialysis may be used to manage fluid balance and waste removal.\n",
      "- In some cases, hemodialysis, hemofiltration, or peritoneal dialysis may be required to filter fluids and wastes from the bloodstream until the primary medical condition can be controlled.\n",
      "\n",
      "However, there is no specific information about the treatment of liver-related issues in the provided context.\n",
      "AI: Based on the provided context, the treatment for liver-related issues is not explicitly stated. However, the AI response mentions that the treatment would be similar to the general treatment approach for the mentioned conditions:\n",
      "\n",
      "- The treatment is directed to the underlying, primary medical condition that has triggered the issue.\n",
      "- The use of medications, surgery, and/or blood transfusions may be required.\n",
      "- Replacement fluids given through a vein, diuretics, or dialysis may be used to manage fluid balance and waste removal.\n",
      "- In some cases, hemodialysis, hemofiltration, or peritoneal dialysis may be required to filter fluids and wastes from the bloodstream until the primary medical condition can be controlled.\n",
      "AI: Based on the provided context, there is no specific information about the treatment of fatty liver. However, the AI response mentions that the treatment for liver-related issues would be similar to the general treatment approach for the mentioned conditions:\n",
      "\n",
      "- The treatment is directed to the underlying, primary medical condition that has triggered the issue.\n",
      "- The use of medications, surgery, and/or blood transfusions may be required.\n",
      "- Replacement fluids given through a vein, diuretics, or dialysis may be used to manage fluid balance and waste removal.\n",
      "- In some cases, hemodialysis, hemofiltration, or peritoneal dialysis may be required to filter fluids and wastes from the bloodstream until the primary medical condition can be controlled.\n",
      "\n",
      "Since fatty liver is not explicitly mentioned, we cannot provide a specific treatment plan. However, treatment for fatty liver disease often involves lifestyle changes, such as:\n",
      "\n",
      "- Weight loss\n",
      "- Dietary changes (reducing fat intake and increasing exercise)\n",
      "- Medications (such as vitamin E or omega-3 fatty acids)\n",
      "- In some cases, liver transplantation\n",
      "\n",
      "However, these are general recommendations and not based on the provided context.\n",
      "Goodbye! Have a nice day!\n"
     ]
    }
   ],
   "source": [
    "chatbot()\n"
   ]
  }
 ],
 "metadata": {
  "kernelspec": {
   "display_name": "llmapp",
   "language": "python",
   "name": "python3"
  },
  "language_info": {
   "codemirror_mode": {
    "name": "ipython",
    "version": 3
   },
   "file_extension": ".py",
   "mimetype": "text/x-python",
   "name": "python",
   "nbconvert_exporter": "python",
   "pygments_lexer": "ipython3",
   "version": "3.11.0"
  }
 },
 "nbformat": 4,
 "nbformat_minor": 2
}
